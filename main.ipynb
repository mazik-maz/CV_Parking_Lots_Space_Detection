{
 "cells": [
  {
   "cell_type": "code",
   "execution_count": 11,
   "metadata": {},
   "outputs": [],
   "source": [
    "import cv2\n",
    "import os\n",
    "import numpy as np\n",
    "from matplotlib import pyplot as plt\n",
    "import time\n",
    "\n",
    "frames_folder = 'images/train'\n",
    "empty_parking_folder = 'final_base'\n",
    "output = 'output'"
   ]
  },
  {
   "cell_type": "code",
   "execution_count": 4,
   "metadata": {},
   "outputs": [],
   "source": [
    "def perspective_transform(image, src_points, dst_points):\n",
    "    matrix = cv2.getPerspectiveTransform(src_points, dst_points)\n",
    "    warped = cv2.warpPerspective(image, matrix, (image.shape[1], image.shape[0]))\n",
    "    return warped"
   ]
  },
  {
   "cell_type": "code",
   "execution_count": 5,
   "metadata": {},
   "outputs": [],
   "source": [
    "def apply_best_blur(image, method=\"gaussian\", kernel_size=3, sigma=0, diameter=9, sigma_color=200, sigma_space=200):\n",
    "    if method == \"gaussian\":\n",
    "        blurred_image = cv2.GaussianBlur(image, (kernel_size, kernel_size), sigma)\n",
    "    elif method == \"median\":\n",
    "        blurred_image = cv2.medianBlur(image, kernel_size)\n",
    "    elif method == \"bilateral\":\n",
    "        blurred_image = cv2.bilateralFilter(image, diameter, sigma_color, sigma_space)\n",
    "    else:\n",
    "        raise ValueError(\"incorrect method\")\n",
    "    \n",
    "    return blurred_image"
   ]
  },
  {
   "cell_type": "code",
   "execution_count": 6,
   "metadata": {},
   "outputs": [],
   "source": [
    "def show_in_row(list_of_images, titles = None, disable_ticks = False):\n",
    "    count = len(list_of_images)\n",
    "    for idx in range(count):\n",
    "        subplot = plt.subplot(1, count, idx+1)\n",
    "        if titles is not None:\n",
    "            subplot.set_title(titles[idx])\n",
    "\n",
    "        img = list_of_images[idx]\n",
    "        cmap = 'gray' if (len(img.shape) == 2 or img.shape[2] == 1) else None\n",
    "        subplot.imshow(img, cmap=cmap)\n",
    "        if disable_ticks:\n",
    "            plt.xticks([]), plt.yticks([])\n",
    "    plt.show()"
   ]
  },
  {
   "cell_type": "code",
   "execution_count": 22,
   "metadata": {},
   "outputs": [],
   "source": [
    "def mse_match(imageA, imageB):\n",
    "    err = np.mean((imageA.astype(\"float\") - imageB.astype(\"float\")) ** 2)\n",
    "    \n",
    "    return err <= 1200.0\n",
    "\n",
    "def images_match(img1, img2, method=cv2.TM_CCOEFF_NORMED, threshold=0.8):\n",
    "    img1_gray = cv2.cvtColor(img1, cv2.COLOR_RGB2GRAY)\n",
    "    img2_gray = cv2.cvtColor(img2, cv2.COLOR_RGB2GRAY)\n",
    "\n",
    "    res = cv2.matchTemplate(img2_gray, img1_gray, method)\n",
    "    min_val, max_val, _, _ = cv2.minMaxLoc(res)\n",
    "\n",
    "    if method in [cv2.TM_SQDIFF, cv2.TM_SQDIFF_NORMED]:\n",
    "        match_value = min_val\n",
    "        # For these methods, lower values indicate a better match\n",
    "        match = match_value <= (1 - threshold)\n",
    "    else:\n",
    "        match_value = max_val\n",
    "        # For these methods, higher values indicate a better match\n",
    "        match = match_value >= threshold\n",
    "\n",
    "    return match\n",
    "\n",
    "def images_match_ncc(img1, img2, threshold=0.2):\n",
    "    img1_gray = cv2.cvtColor(img1, cv2.COLOR_RGB2GRAY)\n",
    "    img2_gray = cv2.cvtColor(img2, cv2.COLOR_RGB2GRAY)\n",
    "\n",
    "    ncc = np.corrcoef(img2_gray, img1_gray)\n",
    "\n",
    "    return ncc[0, -1] >= threshold"
   ]
  },
  {
   "cell_type": "code",
   "execution_count": null,
   "metadata": {},
   "outputs": [],
   "source": [
    "parking_spaces = np.load('parking_spaces.npy')"
   ]
  },
  {
   "cell_type": "code",
   "execution_count": null,
   "metadata": {},
   "outputs": [],
   "source": [
    "def main():\n",
    "    template_spaces = np.float32([\n",
    "        [[2, 0], [17, 0], [1, 22], [17, 22]],\n",
    "        [[8, 2], [34, 3], [1, 43], [26, 44]],\n",
    "    ])\n",
    "\n",
    "    template_files = sorted([f for f in os.listdir(empty_parking_folder) if f.endswith('.jpg') or f.endswith('.png')])\n",
    "    templates = []\n",
    "    for i, template_file in enumerate(template_files):\n",
    "        template_path = os.path.join(empty_parking_folder, template_file)\n",
    "        template_image = cv2.imread(template_path)    \n",
    "        template_image = cv2.cvtColor(template_image, cv2.COLOR_BGR2RGB)\n",
    "        template_image = cv2.GaussianBlur(template_image, (3,3), 0)\n",
    "\n",
    "        x, y, _ = template_image.shape\n",
    "        \n",
    "        dst_points = np.float32([[0, 0], [y, 0], [0, x], [y, x]])\n",
    "\n",
    "        new_image = perspective_transform(template_image, template_spaces[i], dst_points)\n",
    "        new_image = cv2.resize(new_image, (50, 80), interpolation=cv2.INTER_CUBIC)\n",
    "        \n",
    "        templates.append(new_image)\n",
    "\n",
    "    frame_files = sorted([f for f in os.listdir(frames_folder) if f.endswith('.jpg') or f.endswith('.png')])\n",
    "\n",
    "    for idx, frame_file in enumerate(frame_files):\n",
    "\n",
    "        if idx == 100:\n",
    "            break\n",
    "        idx += 1\n",
    "        \n",
    "        frame_path = os.path.join(frames_folder, frame_file)\n",
    "        frame = cv2.imread(frame_path)\n",
    "        frame = cv2.cvtColor(frame, cv2.COLOR_BGR2RGB)\n",
    "        \n",
    "        for idx, template in enumerate(templates):\n",
    "            x, y, _ = template_image.shape\n",
    "            dst_points = np.float32([[0, 0], [y, 0], [0, x], [y, x]])\n",
    "                \n",
    "            for parking_place_coor in parking_spaces:\n",
    "                frame_copy = perspective_transform(frame, parking_place_coor, dst_points)[0:x, 0:y]\n",
    "                frame_copy = cv2.resize(frame_copy, (50, 80), interpolation=cv2.INTER_CUBIC)\n",
    "                \n",
    "                if mse_match(frame_copy, template):\n",
    "                    parking_place_coor[[0, 1, 2, 3]] = parking_place_coor[[0, 1, 3, 2]]\n",
    "                    pts = np.array(parking_place_coor, np.int32)\n",
    "                    parking_place_coor[[0, 1, 2, 3]] = parking_place_coor[[0, 1, 3, 2]]\n",
    "                    pts = pts.reshape((-1,1,2))\n",
    "                    cv2.polylines(frame,[pts],True,(255,0,0), 2)\n",
    "                \n",
    "        frame = cv2.cvtColor(frame, cv2.COLOR_RGB2BGR)\n",
    "        cv2.imwrite(output + '/' + frame_file, frame)"
   ]
  },
  {
   "cell_type": "code",
   "execution_count": 77,
   "metadata": {},
   "outputs": [
    {
     "name": "stdout",
     "output_type": "stream",
     "text": [
      "Working time: 22.255393266677856 sec.\n"
     ]
    }
   ],
   "source": [
    "if __name__ == \"__main__\":\n",
    "    start_time = time.time()\n",
    "    main()\n",
    "    print(f\"Working time: {time.time() - start_time} sec.\")"
   ]
  },
  {
   "cell_type": "code",
   "execution_count": null,
   "metadata": {},
   "outputs": [],
   "source": []
  }
 ],
 "metadata": {
  "kernelspec": {
   "display_name": "base",
   "language": "python",
   "name": "python3"
  },
  "language_info": {
   "codemirror_mode": {
    "name": "ipython",
    "version": 3
   },
   "file_extension": ".py",
   "mimetype": "text/x-python",
   "name": "python",
   "nbconvert_exporter": "python",
   "pygments_lexer": "ipython3",
   "version": "3.12.4"
  }
 },
 "nbformat": 4,
 "nbformat_minor": 2
}
